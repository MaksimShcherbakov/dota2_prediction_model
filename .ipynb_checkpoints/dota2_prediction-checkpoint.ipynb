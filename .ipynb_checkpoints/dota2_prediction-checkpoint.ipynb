{
 "cells": [
  {
   "cell_type": "code",
   "execution_count": null,
   "id": "29bc1a41-5e76-4838-bb9e-984dbb145498",
   "metadata": {},
   "outputs": [],
   "source": [
    "!pip install -q sqlalchemy psycopg2 tqdm optuna category_encoders catboost"
   ]
  },
  {
   "cell_type": "markdown",
   "id": "aa7fefab-1d45-44a1-bf51-1a776efb2675",
   "metadata": {},
   "source": [
    "**ТЗ:**\n",
    "\n",
    "Задача проекта - построить модель бинарной классификации исхода матча в игре Dota 2.\n",
    "\n",
    "В Dota 2 участвуют две команды: Radiant и Dire. Нужно оценить вероятность победы команды Radiant. \n",
    "\n",
    "В обычной игре Dota 2 каждая из двух команд — Radiant и Dire — состоит из 5 игроков. Каждый игрок выбирает героя, который играет определённую роль. Dota 2 — командная игра, поэтому состав команды имеет большое значение. Карта игры содержит базы команд (фонтан), 3 линии для каждой стороны, магазины, логово Рошана и другие элементы.\n",
    "В течение игры игроки улучшают своих героев, покупают предметы, разрушают башни, убивают героев противника, фармят крипов врага и \"отрекаются\" от своих крипов (не дают их убивать врагу). Цель игры — разрушить фонтан противника, и ничья невозможна.\n",
    "\n",
    "Для оценки используется метрика ROC-AUC. Результат этой задачи — бинарный: для каждой игры нужно предсказать победу команды Radiant (1) или поражение (0). Поскольку мы оцениваем вероятность исхода, результат будет находиться в интервале [0,1]. Затем это значение сравнивается с определённым порогом для получения бинарного ответа."
   ]
  },
  {
   "cell_type": "code",
   "execution_count": null,
   "id": "5159de0d-86d0-4226-ad45-18027df29e67",
   "metadata": {},
   "outputs": [],
   "source": [
    "import pandas as pd\n",
    "import seaborn as sns\n",
    "import matplotlib.pyplot as plt\n",
    "import optuna\n",
    "import math\n",
    "import numpy as np\n",
    "\n",
    "from IPython.display import display\n",
    "from sqlalchemy import create_engine\n",
    "from tqdm import tqdm\n",
    "from sklearn.metrics import f1_score, precision_score, recall_score, accuracy_score, roc_auc_score\n",
    "from sklearn.model_selection import cross_val_predict, train_test_split, KFold\n",
    "from sklearn.pipeline import Pipeline\n",
    "from sklearn.compose import ColumnTransformer\n",
    "from sklearn.preprocessing import MinMaxScaler, OneHotEncoder\n",
    "from sklearn.dummy import DummyClassifier\n",
    "from sklearn.linear_model import LogisticRegression\n",
    "from category_encoders import TargetEncoder\n",
    "from catboost import CatBoostClassifier"
   ]
  },
  {
   "cell_type": "code",
   "execution_count": null,
   "id": "08a4b9fe-4f96-4437-8e64-620ba6fa112e",
   "metadata": {},
   "outputs": [],
   "source": [
    "RANDOM_STATE = 42\n",
    "N_TRIALS = 50"
   ]
  },
  {
   "cell_type": "markdown",
   "id": "c915c34d-3766-45c4-9d3a-58137455f772",
   "metadata": {},
   "source": [
    "**0. Загрузка данных**"
   ]
  },
  {
   "cell_type": "code",
   "execution_count": null,
   "id": "020b7eff-9efd-4e8d-9f59-68073827f3de",
   "metadata": {},
   "outputs": [],
   "source": [
    "def load_jsonl_with_progress(filepath):\n",
    "    # Функция построчного считывания JSON файла\n",
    "    data = []\n",
    "    with open(filepath, 'r') as f:\n",
    "        for line in tqdm(f, desc=f\"Loading {filepath}\"):\n",
    "            data.append(json.loads(line.strip()))\n",
    "    return pd.DataFrame(data)"
   ]
  },
  {
   "cell_type": "markdown",
   "id": "8c86a924-378a-47c9-af05-501877f7603d",
   "metadata": {},
   "source": [
    "Для подключения к БД используются следующие параметры"
   ]
  },
  {
   "cell_type": "code",
   "execution_count": null,
   "id": "e2647f63-6a94-4388-b679-3735440a7760",
   "metadata": {},
   "outputs": [],
   "source": [
    "db_params = {\n",
    "    'dbname': 'dota_2',\n",
    "    'user': 'student',\n",
    "    'password': 'uvBbBm8gn',\n",
    "    'host': '158.160.146.146',\n",
    "    'port': '5432'\n",
    "}\n",
    "\n",
    "connection_string = (\n",
    "    f\"postgresql+psycopg2://{db_params['user']}:{db_params['password']}@\"\n",
    "    f\"{db_params['host']}:{db_params['port']}/{db_params['dbname']}\"\n",
    ")\n",
    "\n",
    "engine = create_engine(\n",
    "    connection_string,\n",
    "    pool_size=5,\n",
    "    max_overflow=10\n",
    ")\n",
    "\n",
    "query_train_features = \"SELECT * FROM train_features;\"\n",
    "query_train_target = \"SELECT * FROM train_targets;\"\n",
    "query_test_features = \"SELECT * FROM test_features;\"\n",
    "\n",
    "\n",
    "with engine.connect() as connection:\n",
    "    \n",
    "    df_train_features_raw = pd.read_sql_query(query_train_features, connection)\n",
    "    df_train_target_raw = pd.read_sql_query(query_train_target, connection)\n",
    "    df_test_features_raw = pd.read_sql_query(query_train_target, engine)\n",
    "    \n",
    "engine.dispose()"
   ]
  },
  {
   "cell_type": "markdown",
   "id": "8a1172ef-1db6-46fb-b87a-41b83183fd3f",
   "metadata": {},
   "source": [
    "Подключение к БД и выгрузка необходимых данных"
   ]
  },
  {
   "cell_type": "code",
   "execution_count": null,
   "id": "65f06d26-6899-4f3f-9fa0-46543a68fd91",
   "metadata": {},
   "outputs": [],
   "source": [
    "# df_train_raw_json = load_jsonl_with_progress('train_matches.jsonl')\n",
    "# df_test_raw_json = load_jsonl_with_progress('test_matches.jsonl')"
   ]
  },
  {
   "cell_type": "markdown",
   "id": "adb4a781-cae8-4ede-b434-bed1e8a9a91e",
   "metadata": {},
   "source": [
    "Загрузка данных из JSON файла"
   ]
  },
  {
   "cell_type": "markdown",
   "id": "9550866a-41e6-4133-9fd5-4ab0592340ec",
   "metadata": {},
   "source": [
    "Данные загружены, можно приступать к их обработке"
   ]
  },
  {
   "cell_type": "markdown",
   "id": "dc7ee828-aeee-406f-9a1c-b48bd640bf11",
   "metadata": {},
   "source": [
    "**1. Исследовательский анализ данных**"
   ]
  },
  {
   "cell_type": "code",
   "execution_count": null,
   "id": "17d080ba-4fb1-44df-adb1-fac630a6fcbe",
   "metadata": {},
   "outputs": [],
   "source": [
    "def display_data(data):\n",
    "    # Функция вывода необходимой информации по датафрейму\n",
    "    display(data.head(5))\n",
    "    display(data.info())\n",
    "    display(data.describe())"
   ]
  },
  {
   "cell_type": "code",
   "execution_count": null,
   "id": "95f66a10-2599-4ec7-a449-29c56b7e2a23",
   "metadata": {},
   "outputs": [],
   "source": [
    "def create_stat_plots(data, target):\n",
    "    # Функция вывода графика распределения значений признака\n",
    "    if pd.api.types.is_numeric_dtype(data[target]):\n",
    "        fig, (ax1, ax2) = plt.subplots(1, 2, figsize=(8, 4))\n",
    "        sns.histplot(data[target], bins=30, kde=True, ax=ax1)\n",
    "        ax1.set_title(f'Histogram of {target}')\n",
    "        sns.boxplot(x=data[target], ax=ax2)\n",
    "        ax2.set_title(f'Box Plot for {target}')\n",
    "        plt.tight_layout()\n",
    "        plt.show()\n",
    "    else:\n",
    "        print(f\"Столбец {target} имеет неверный тип данных\")\n",
    "\n",
    "    print(data[target].describe())"
   ]
  },
  {
   "cell_type": "code",
   "execution_count": null,
   "id": "bd367a0d-8d21-4e2a-b10e-6889f8651980",
   "metadata": {},
   "outputs": [],
   "source": [
    "def delete_outliers(data, target):\n",
    "    # Функция удаления выбросов из признака\n",
    "    Q1 = data[target].quantile(0.25)\n",
    "    Q3 = data[target].quantile(0.75)\n",
    "    IQR = Q3 - Q1\n",
    "\n",
    "    lower_bound = Q1 - 1.5 * IQR\n",
    "    upper_bound = Q3 + 1.5 * IQR\n",
    "\n",
    "    data = data[(data[target] >= lower_bound) & (data[target] <= upper_bound)]\n",
    "    print('Удаляю выбросы')\n",
    "    return data"
   ]
  },
  {
   "cell_type": "code",
   "execution_count": null,
   "id": "cb491dd3-58cf-492a-b10b-9e9767934c8b",
   "metadata": {},
   "outputs": [],
   "source": [
    "def change_reg_to_cat(feature, large=False):\n",
    "    # Функция изменения списка для фичи с численных признаков на категориальные\n",
    "    try:\n",
    "        numeric_features.remove(feature)\n",
    "        if large:\n",
    "            categorical_features_large.append(feature)\n",
    "        else:\n",
    "            categorical_features.append(feature)\n",
    "    except: \n",
    "        print(f'В numeric_features нет {feature}')"
   ]
  },
  {
   "cell_type": "code",
   "execution_count": null,
   "id": "7c7a2996-0d38-4499-95c5-1ef8c77f8f45",
   "metadata": {},
   "outputs": [],
   "source": [
    "display_data(df_train_features_raw)"
   ]
  },
  {
   "cell_type": "markdown",
   "id": "96950d05-3412-4708-92c0-68f16468f086",
   "metadata": {},
   "source": [
    "Сырой тренировочный датафрейм признаков содержит 33723 строки и 246 столбцов"
   ]
  },
  {
   "cell_type": "code",
   "execution_count": null,
   "id": "49b1ac86-06bf-470c-b717-0b60aabd8383",
   "metadata": {},
   "outputs": [],
   "source": [
    "display_data(df_train_target_raw)"
   ]
  },
  {
   "cell_type": "markdown",
   "id": "c112be5a-8d72-4284-9347-605f043b28fd",
   "metadata": {},
   "source": [
    "Сырой тренировочный датафрейм тагргетов содержит 33723 строки и 6 столбцов"
   ]
  },
  {
   "cell_type": "code",
   "execution_count": null,
   "id": "1bb523f2-1c46-4e44-8ce1-b06143d0083f",
   "metadata": {},
   "outputs": [],
   "source": [
    "display_data(df_test_features_raw)"
   ]
  },
  {
   "cell_type": "code",
   "execution_count": null,
   "id": "26d6f4ad-02a0-42eb-a3a3-66e700e553c8",
   "metadata": {},
   "outputs": [],
   "source": [
    "# display_data(df_train_raw_json)"
   ]
  },
  {
   "cell_type": "code",
   "execution_count": null,
   "id": "16472cd9-b62a-4bcf-8f06-503fbed4ab3d",
   "metadata": {},
   "outputs": [],
   "source": [
    "# display_data(df_test_raw_json)"
   ]
  },
  {
   "cell_type": "code",
   "execution_count": null,
   "id": "0e62567e-3f7d-4b3b-83e0-a6ec88245571",
   "metadata": {},
   "outputs": [],
   "source": [
    "df_train_features_raw.rename(columns={'game_time_x': 'game_time'}, inplace=True)"
   ]
  },
  {
   "cell_type": "code",
   "execution_count": null,
   "id": "8f456dfd-ea5f-448f-969e-6c10013a76dc",
   "metadata": {},
   "outputs": [],
   "source": [
    "categorical_features = []\n",
    "categorical_features_large = []\n",
    "numeric_features = []\n",
    "\n",
    "for column in df_train_features_raw.columns:\n",
    "    if pd.api.types.is_numeric_dtype(df_train_features_raw[column]):\n",
    "        numeric_features.append(column)\n",
    "    else:\n",
    "        categorical_features.append(column)"
   ]
  },
  {
   "cell_type": "markdown",
   "id": "2cea1ba1-e83b-4188-9065-7d65cec82c00",
   "metadata": {},
   "source": [
    "Определю списки количественных и категориальных данных"
   ]
  },
  {
   "cell_type": "code",
   "execution_count": null,
   "id": "e41e6cfd-8042-4353-b1d5-8510d219c025",
   "metadata": {
    "scrolled": true
   },
   "outputs": [],
   "source": [
    "n_cols = 3\n",
    "n_rows = math.ceil(len(numeric_features) / n_cols)\n",
    "\n",
    "fig, axes = plt.subplots(n_rows, n_cols, figsize=(15, 3 * n_rows))\n",
    "fig.tight_layout(pad=5.0)\n",
    "\n",
    "for i, column in tqdm(enumerate(numeric_features), desc=\"Построение гистограмм\"):\n",
    "    row = i // n_cols\n",
    "    col = i % n_cols\n",
    "    sns.histplot(df_train_features_raw[column], bins=10, ax=axes[row, col])\n",
    "    axes[row, col].set_title(f'Гистограмма для {column}')\n",
    "    axes[row, col].set_xlabel(column)\n",
    "    axes[row, col].set_ylabel('Частота')\n",
    "\n",
    "if len(numeric_features) % n_cols != 0:\n",
    "    for j in range(len(numeric_features) % n_cols, n_cols):\n",
    "        fig.delaxes(axes[-1, j])\n",
    "\n",
    "plt.show()"
   ]
  },
  {
   "cell_type": "code",
   "execution_count": null,
   "id": "72d219bd-2d97-4e9b-b646-b5c7e4095a7b",
   "metadata": {},
   "outputs": [],
   "source": [
    "train_data_raw = pd.merge(df_train_features_raw, df_train_target_raw, how='inner', on='match_id_hash')"
   ]
  },
  {
   "cell_type": "code",
   "execution_count": null,
   "id": "2803be8e-0839-4226-a56c-777d3bbae6ab",
   "metadata": {},
   "outputs": [],
   "source": [
    "train_data_raw.info()"
   ]
  },
  {
   "cell_type": "code",
   "execution_count": null,
   "id": "0dac5d89-187a-4782-8721-71512be73b99",
   "metadata": {},
   "outputs": [],
   "source": [
    "train_data = train_data_raw.copy()"
   ]
  },
  {
   "cell_type": "markdown",
   "id": "a1ae71e6-9493-4618-bfaa-d26c6218dc22",
   "metadata": {},
   "source": [
    "Для дальнейшей обработки данных создам новый датафрейм на основании \"сырого\""
   ]
  },
  {
   "cell_type": "code",
   "execution_count": null,
   "id": "a9f7c01c-1b88-4c6b-81da-7f2f30fce8ee",
   "metadata": {},
   "outputs": [],
   "source": [
    "train_data.rename(columns={'game_time_x': 'game_time'}, inplace=True)"
   ]
  },
  {
   "cell_type": "code",
   "execution_count": null,
   "id": "07885c63-66dd-4a88-8b0b-50e8d5fb48eb",
   "metadata": {},
   "outputs": [],
   "source": [
    "train_data.drop('game_time_y', axis=1)"
   ]
  },
  {
   "cell_type": "code",
   "execution_count": null,
   "id": "601c5244-1d4d-446c-8c34-2a7d8a5020c8",
   "metadata": {},
   "outputs": [],
   "source": [
    "create_stat_plots(train_data, 'game_time')"
   ]
  },
  {
   "cell_type": "markdown",
   "id": "80a65704-a2b8-48ef-9455-8057e0f13d47",
   "metadata": {},
   "source": [
    "Временная метка игры, когда были получены данные"
   ]
  },
  {
   "cell_type": "code",
   "execution_count": null,
   "id": "16ac216b-7245-4a7b-bddb-137bdb8ca64d",
   "metadata": {},
   "outputs": [],
   "source": [
    "create_stat_plots(train_data, 'game_mode')"
   ]
  },
  {
   "cell_type": "code",
   "execution_count": null,
   "id": "1f11141e-8d68-4214-a77e-d6c22d49b694",
   "metadata": {},
   "outputs": [],
   "source": [
    "train_data['game_mode'].unique()"
   ]
  },
  {
   "cell_type": "code",
   "execution_count": null,
   "id": "646a1e06-782b-4695-b4db-210722f9d25a",
   "metadata": {},
   "outputs": [],
   "source": [
    "change_reg_to_cat('game_mode', large=True)"
   ]
  },
  {
   "cell_type": "markdown",
   "id": "e4499264-c493-4bf6-ab79-4f11241dbd10",
   "metadata": {},
   "source": [
    "Очевидно, что из-за типа данных, моя программа оценила эту фичу как регрессионную, однако это классы, и необходимо это изменить. По графику наблюдается дисбаланс классов."
   ]
  },
  {
   "cell_type": "code",
   "execution_count": null,
   "id": "369e1e08-9e64-4c78-bdc6-c25f7e19d00c",
   "metadata": {},
   "outputs": [],
   "source": [
    "create_stat_plots(train_data, 'lobby_type')"
   ]
  },
  {
   "cell_type": "code",
   "execution_count": null,
   "id": "07798b80-1a8d-415e-bd8f-38c97113e8fe",
   "metadata": {},
   "outputs": [],
   "source": [
    "train_data['lobby_type'].unique()"
   ]
  },
  {
   "cell_type": "code",
   "execution_count": null,
   "id": "d3996f4e-4559-4887-997f-68bd50e707a1",
   "metadata": {},
   "outputs": [],
   "source": [
    "change_reg_to_cat('lobby_type')"
   ]
  },
  {
   "cell_type": "markdown",
   "id": "d9d8b94a-aee4-4df1-911a-e18c10b36650",
   "metadata": {},
   "source": [
    "Очевидно, что из-за типа данных, моя программа оценила эту фичу как регрессионную, однако это классы, и необходимо это изменить. По графику наблюдается дисбаланс классов."
   ]
  },
  {
   "cell_type": "code",
   "execution_count": null,
   "id": "7757a263-790e-4a1b-a0ed-5e51ae384be4",
   "metadata": {},
   "outputs": [],
   "source": [
    "create_stat_plots(train_data, 'objectives_len')"
   ]
  },
  {
   "cell_type": "markdown",
   "id": "4a8ea69e-fa63-450b-b39c-ee93462c07c8",
   "metadata": {},
   "source": [
    "Из названия не ясно что это за признак, в документации информации тоже нет. Возможно, имеются ввиду уничтожение общего количества всех построек (с учетом \"туалетов\" и статуй на базе + убийства Рошана). Тогда максимальное количество 25 (количество уничтожаемых построек) + 3-4 за Рошана. Возможно, что значения за 3 квантилем можно считать выбросами и удалить."
   ]
  },
  {
   "cell_type": "code",
   "execution_count": null,
   "id": "b99a337d-e107-437f-966d-99b824f2b891",
   "metadata": {},
   "outputs": [],
   "source": [
    "create_stat_plots(train_data, 'chat_len')"
   ]
  },
  {
   "cell_type": "markdown",
   "id": "8ca42b6a-d666-4f4e-9666-695f5240736a",
   "metadata": {},
   "source": [
    "Вероятно, признак описывающий количество сообщений в чате. Много выбросов."
   ]
  },
  {
   "cell_type": "code",
   "execution_count": null,
   "id": "8f836056-f164-47a7-90c8-fcff9f16603f",
   "metadata": {},
   "outputs": [],
   "source": [
    "create_stat_plots(train_data, 'r1_hero_id')"
   ]
  },
  {
   "cell_type": "code",
   "execution_count": null,
   "id": "b05e21e4-328e-4648-8ff3-ecec1a4de878",
   "metadata": {},
   "outputs": [],
   "source": [
    "train_data['r1_hero_id']"
   ]
  },
  {
   "cell_type": "code",
   "execution_count": null,
   "id": "22c6386d-7f5b-4ee0-9d17-655103dc2792",
   "metadata": {},
   "outputs": [],
   "source": [
    "for column in train_data.columns:\n",
    "    if 'hero_id' in column:\n",
    "        change_reg_to_cat(column, large=True)"
   ]
  },
  {
   "cell_type": "markdown",
   "id": "f8e65c44-6a30-4352-99c5-43ff3c14eb6d",
   "metadata": {},
   "source": [
    "Несмотря на большое количество уникальных значений, этот признак является категориальным, так же сделаю для всех подобных признаков других игроков"
   ]
  },
  {
   "cell_type": "code",
   "execution_count": null,
   "id": "386a2fc8-3edd-4742-adc3-cb79ff0149a8",
   "metadata": {},
   "outputs": [],
   "source": [
    "create_stat_plots(train_data, 'r1_kills')"
   ]
  },
  {
   "cell_type": "markdown",
   "id": "de071d1c-9850-4d14-9bc9-2a8cd1366d43",
   "metadata": {},
   "source": [
    "32 убийства - исключение, но не аномалия."
   ]
  },
  {
   "cell_type": "code",
   "execution_count": null,
   "id": "de419a7d-35ac-4eba-a83a-67b2313aaa99",
   "metadata": {},
   "outputs": [],
   "source": [
    "create_stat_plots(train_data, 'r1_deaths')"
   ]
  },
  {
   "cell_type": "code",
   "execution_count": null,
   "id": "7b1dae24-d5b2-45ca-a943-21febefb8929",
   "metadata": {},
   "outputs": [],
   "source": [
    "create_stat_plots(train_data, 'r1_assists')"
   ]
  },
  {
   "cell_type": "markdown",
   "id": "5e980dd0-bc39-420f-a28f-6a756bd836b6",
   "metadata": {},
   "source": [
    "Аналогично предыдущему."
   ]
  },
  {
   "cell_type": "code",
   "execution_count": null,
   "id": "2181bcad-53d9-4e33-aa42-b4789f9c98e0",
   "metadata": {},
   "outputs": [],
   "source": [
    "create_stat_plots(train_data, 'r1_denies')"
   ]
  },
  {
   "cell_type": "markdown",
   "id": "dde28180-674c-434a-a54f-c3295651129b",
   "metadata": {},
   "source": [
    "Сделать много денаев возможно, этим чаще занимаются мидеры и керри"
   ]
  },
  {
   "cell_type": "code",
   "execution_count": null,
   "id": "f9905c15-5052-40d2-94f7-3c5cf3e9b9d0",
   "metadata": {},
   "outputs": [],
   "source": [
    "create_stat_plots(train_data, 'r1_gold')"
   ]
  },
  {
   "cell_type": "code",
   "execution_count": null,
   "id": "2c28dab5-5395-4664-8a60-8e6142cfbf4c",
   "metadata": {},
   "outputs": [],
   "source": [
    "create_stat_plots(train_data, 'r1_xp')"
   ]
  },
  {
   "cell_type": "markdown",
   "id": "61b24beb-059d-43a0-9a30-a8e4adeed526",
   "metadata": {},
   "source": [
    "Странная аномалия около 27к опыта. Пока не знаю с чем это связано"
   ]
  },
  {
   "cell_type": "code",
   "execution_count": null,
   "id": "b1383633-d8b8-474e-84ac-d68dcd9df223",
   "metadata": {},
   "outputs": [],
   "source": [
    "create_stat_plots(train_data, 'r1_health')"
   ]
  },
  {
   "cell_type": "code",
   "execution_count": null,
   "id": "5abfd729-48cb-42b4-bb10-3b3b59a1c46a",
   "metadata": {},
   "outputs": [],
   "source": [
    "create_stat_plots(train_data, 'r1_max_mana')"
   ]
  },
  {
   "cell_type": "code",
   "execution_count": null,
   "id": "a3778b14-416a-4f94-b6fa-59b5a08fe0e9",
   "metadata": {},
   "outputs": [],
   "source": [
    "create_stat_plots(train_data, 'r1_level')"
   ]
  },
  {
   "cell_type": "code",
   "execution_count": null,
   "id": "670f6b86-7f25-429d-8fea-c36b4e42bf37",
   "metadata": {},
   "outputs": [],
   "source": [
    "create_stat_plots(train_data, 'r1_x')"
   ]
  },
  {
   "cell_type": "markdown",
   "id": "aa8191c5-b5c7-4304-8b22-b5abf31c033d",
   "metadata": {},
   "source": [
    "Непонятный признак"
   ]
  },
  {
   "cell_type": "code",
   "execution_count": null,
   "id": "ef5c4520-60cb-4b72-8110-dabd34204dac",
   "metadata": {},
   "outputs": [],
   "source": [
    "create_stat_plots(train_data, 'r1_y')"
   ]
  },
  {
   "cell_type": "code",
   "execution_count": null,
   "id": "1d303866-acbe-4a29-bf09-b150b38aa961",
   "metadata": {},
   "outputs": [],
   "source": [
    "create_stat_plots(train_data, 'r1_stuns')"
   ]
  },
  {
   "cell_type": "markdown",
   "id": "13273865-631b-4e2a-85ea-7cd8f0763183",
   "metadata": {},
   "source": [
    "Вот эти данные выглядят не очень реалистичными, однако не стоит исключать"
   ]
  },
  {
   "cell_type": "code",
   "execution_count": null,
   "id": "302240e0-4caf-4ee8-883f-4f42d6cf6b00",
   "metadata": {},
   "outputs": [],
   "source": [
    "create_stat_plots(train_data, 'r1_creeps_stacked')"
   ]
  },
  {
   "cell_type": "code",
   "execution_count": null,
   "id": "7b8e0d6d-3258-4019-9235-15a8e3904188",
   "metadata": {},
   "outputs": [],
   "source": [
    "create_stat_plots(train_data, 'r1_camps_stacked')"
   ]
  },
  {
   "cell_type": "code",
   "execution_count": null,
   "id": "091e5645-eec1-4692-b20d-25f4968c39da",
   "metadata": {},
   "outputs": [],
   "source": [
    "create_stat_plots(train_data, 'r1_rune_pickups')"
   ]
  },
  {
   "cell_type": "code",
   "execution_count": null,
   "id": "a6127329-baf5-4bf1-a572-d595a5e6adba",
   "metadata": {},
   "outputs": [],
   "source": [
    "create_stat_plots(train_data, 'r1_firstblood_claimed')"
   ]
  },
  {
   "cell_type": "code",
   "execution_count": null,
   "id": "6c54fea6-24a9-4ad8-8201-0bf8e9b940a8",
   "metadata": {},
   "outputs": [],
   "source": [
    "for column in train_data.columns:\n",
    "    if 'firstblood_claimed' in column:\n",
    "        change_reg_to_cat(column)"
   ]
  },
  {
   "cell_type": "markdown",
   "id": "8438f5d2-011b-42e1-8aae-cca69da43448",
   "metadata": {},
   "source": [
    "Этот признак необходимо перевести в категориальные"
   ]
  },
  {
   "cell_type": "code",
   "execution_count": null,
   "id": "0ec65d1c-ddf4-4d41-837d-3b26d4cd99cb",
   "metadata": {},
   "outputs": [],
   "source": [
    "create_stat_plots(train_data, 'r1_teamfight_participation')"
   ]
  },
  {
   "cell_type": "code",
   "execution_count": null,
   "id": "e8d8adb8-e06a-4380-99c9-d3d211f0f598",
   "metadata": {},
   "outputs": [],
   "source": [
    "create_stat_plots(train_data, 'r1_towers_killed')"
   ]
  },
  {
   "cell_type": "code",
   "execution_count": null,
   "id": "b65ae2d0-c05c-41d1-8983-3d8ea920a967",
   "metadata": {},
   "outputs": [],
   "source": [
    "create_stat_plots(train_data, 'r1_roshans_killed')"
   ]
  },
  {
   "cell_type": "code",
   "execution_count": null,
   "id": "b2b48641-d50a-4620-8009-8d853fb56b69",
   "metadata": {},
   "outputs": [],
   "source": [
    "create_stat_plots(train_data, 'r1_obs_placed')"
   ]
  },
  {
   "cell_type": "code",
   "execution_count": null,
   "id": "5914f13e-d839-4925-850d-d654faf58927",
   "metadata": {},
   "outputs": [],
   "source": [
    "create_stat_plots(train_data, 'r1_sen_placed')"
   ]
  },
  {
   "cell_type": "code",
   "execution_count": null,
   "id": "a1e4a003-7ac9-4e28-9902-60c78d8396e9",
   "metadata": {},
   "outputs": [],
   "source": [
    "create_stat_plots(train_data, 'duration')"
   ]
  },
  {
   "cell_type": "code",
   "execution_count": null,
   "id": "ffcc354c-c612-4ad6-8bb1-2db3339581dd",
   "metadata": {},
   "outputs": [],
   "source": [
    "train_data[['game_time', 'duration']]"
   ]
  },
  {
   "cell_type": "markdown",
   "id": "50a1e5d9-5d7d-43bf-ae36-8f555cb0b357",
   "metadata": {},
   "source": [
    "**Извлеку новые признаки**"
   ]
  },
  {
   "cell_type": "code",
   "execution_count": null,
   "id": "a76f8356-553e-4292-8e59-b750dabaa672",
   "metadata": {},
   "outputs": [],
   "source": [
    "train_data_extended = train_data.copy()"
   ]
  },
  {
   "cell_type": "code",
   "execution_count": null,
   "id": "5361a738-3e90-46bf-885d-bf172a8ea524",
   "metadata": {},
   "outputs": [],
   "source": [
    "radiant_list = ['r1', 'r2', 'r3', 'r4', 'r5']\n",
    "dire_list = ['d1', 'd2', 'd3', 'd4', 'd5']\n",
    "players_list = radiant_list + dire_list"
   ]
  },
  {
   "cell_type": "code",
   "execution_count": null,
   "id": "573901a8-2eb0-4abf-81a0-ef857f83bc8c",
   "metadata": {},
   "outputs": [],
   "source": [
    "for player in players_list:\n",
    "    train_data_extended[player+\"_gpm\"] = np.where(\n",
    "        train_data_extended['game_time'] != 0,\n",
    "        train_data_extended[player+'_gold'] / train_data_extended['game_time'],\n",
    "        0\n",
    "    )\n",
    "    numeric_features.append(player+\"_gpm\")"
   ]
  },
  {
   "cell_type": "markdown",
   "id": "284fd8c1-474b-4653-bc58-7763a0ff7843",
   "metadata": {},
   "source": [
    "Статистика ГПМ для каждого игрока"
   ]
  },
  {
   "cell_type": "code",
   "execution_count": null,
   "id": "368bd261-9f12-4411-a643-06f56c3cc8fa",
   "metadata": {},
   "outputs": [],
   "source": [
    "for player in players_list:\n",
    "    train_data_extended[player+\"_expm\"] = np.where(\n",
    "        train_data_extended['game_time'] != 0,\n",
    "        train_data_extended[player+'_xp'] / train_data_extended['game_time'],\n",
    "        0\n",
    "    )\n",
    "    numeric_features.append(player+\"_expm\")"
   ]
  },
  {
   "cell_type": "markdown",
   "id": "ec024201-f129-45e7-a088-1c4c9cfcd088",
   "metadata": {},
   "source": [
    "Статистика ЭксПМ для каждого игрока"
   ]
  },
  {
   "cell_type": "code",
   "execution_count": null,
   "id": "0ef08c54-7ce9-444a-9490-82267d13f4fb",
   "metadata": {},
   "outputs": [],
   "source": [
    "for player in players_list:\n",
    "    train_data_extended[player+\"_support_activity\"] = train_data_extended[player+'_camps_stacked'] +  train_data_extended[player+'_obs_placed'] +  train_data_extended[player+'_sen_placed']\n",
    "    numeric_features.append(player+\"_support_activity\")"
   ]
  },
  {
   "cell_type": "markdown",
   "id": "694ab9cf-2be8-4f95-8942-aafeb44ef0bc",
   "metadata": {},
   "source": [
    "Количество действий на должности саппорта у игрока"
   ]
  },
  {
   "cell_type": "code",
   "execution_count": null,
   "id": "372d6a57-04f4-4297-b575-8569876c7ff9",
   "metadata": {},
   "outputs": [],
   "source": [
    "def team_firstblood(row):\n",
    "    if any(row[col + '_firstblood_claimed'] == 1 for col in radiant_list):\n",
    "        return 'radiant'\n",
    "    if any(row[col + '_firstblood_claimed'] == 1 for col in dire_list):\n",
    "        return 'dire'\n",
    "    return None"
   ]
  },
  {
   "cell_type": "code",
   "execution_count": null,
   "id": "323e7a39-87f8-44e6-8085-660b4eeffd6a",
   "metadata": {
    "scrolled": true
   },
   "outputs": [],
   "source": [
    "train_data_extended['firstblood_team'] = train_data_extended.apply(team_firstblood, axis=1)\n",
    "train_data_extended['firstblood_team'] = train_data_extended['firstblood_team'].fillna('Unknown')\n",
    "categorical_features.append('firstblood_team')"
   ]
  },
  {
   "cell_type": "code",
   "execution_count": null,
   "id": "18e7e9c3-6c99-40fc-a000-d7cda4c5b3ab",
   "metadata": {},
   "outputs": [],
   "source": [
    "train_data_extended['next_roshan_team'] = train_data_extended['next_roshan_team'].fillna('Unknown')"
   ]
  },
  {
   "cell_type": "markdown",
   "id": "4f002036-e5ef-4f88-a147-48b2e17b5a68",
   "metadata": {},
   "source": [
    "Какая команда сделала firstblood"
   ]
  },
  {
   "cell_type": "code",
   "execution_count": null,
   "id": "43d3c852-1258-43c4-bcdb-b143fa0bda8b",
   "metadata": {},
   "outputs": [],
   "source": [
    "numeric_cols = train_data_extended.select_dtypes(include=[np.number])\n",
    "inf_cols = numeric_cols.columns[np.isinf(numeric_cols).any()]\n",
    "\n",
    "if len(inf_cols) > 0:\n",
    "    print(\"Столбцы с бесконечными значениями:\", inf_cols)\n",
    "else:\n",
    "    print(\"Бесконечные значения не найдены.\")"
   ]
  },
  {
   "cell_type": "markdown",
   "id": "fd50b27d-c5b3-4ed2-8886-92fa186137c8",
   "metadata": {},
   "source": [
    "ПРоверка на наличие бесконечых значений"
   ]
  },
  {
   "cell_type": "code",
   "execution_count": null,
   "id": "dd451a69-bfaf-4683-8263-eacdd588f529",
   "metadata": {},
   "outputs": [],
   "source": [
    "for feature in categorical_features:\n",
    "    train_data_extended[feature] = train_data_extended[feature].astype('category')"
   ]
  },
  {
   "cell_type": "code",
   "execution_count": null,
   "id": "20e2dc29-bb52-4283-9b06-8d65e9c3c61d",
   "metadata": {},
   "outputs": [],
   "source": [
    "for feature in categorical_features_large:\n",
    "    train_data_extended[feature] = train_data_extended[feature].astype('category')"
   ]
  },
  {
   "cell_type": "markdown",
   "id": "c51713ac-9e80-431b-bc66-7b64481a1717",
   "metadata": {},
   "source": [
    "Замена типа данных у категориальных столбцов"
   ]
  },
  {
   "cell_type": "markdown",
   "id": "fe6ab129-c75d-44db-a384-83d354a85238",
   "metadata": {},
   "source": [
    "**2. Предобработка данных**"
   ]
  },
  {
   "cell_type": "code",
   "execution_count": null,
   "id": "890ba1f8-ca22-4430-ace2-a9ef947291e3",
   "metadata": {},
   "outputs": [],
   "source": [
    "# categorical_features.remove('match_id_hash')"
   ]
  },
  {
   "cell_type": "code",
   "execution_count": null,
   "id": "cf4dce7b-8ae9-47ca-b88a-a4b9f4f02637",
   "metadata": {},
   "outputs": [],
   "source": [
    "X = train_data_extended.drop(['radiant_win', 'match_id_hash'], axis=1)\n",
    "y = train_data_extended['radiant_win']\n",
    "\n",
    "X_train, X_test, y_train, y_test = train_test_split(X, y, test_size=0.20, random_state=RANDOM_STATE)"
   ]
  },
  {
   "cell_type": "code",
   "execution_count": null,
   "id": "85cb64f6-df89-451b-8f37-60de880441a6",
   "metadata": {},
   "outputs": [],
   "source": [
    "categorical_features.remove('match_id_hash')"
   ]
  },
  {
   "cell_type": "markdown",
   "id": "696d2b88-3e51-4cc1-8e5c-b15766c82df3",
   "metadata": {},
   "source": [
    "Выделяю признаки и целевую переменную, а также разбиваю выборку на тренировочную и тестовую"
   ]
  },
  {
   "cell_type": "code",
   "execution_count": null,
   "id": "04fcaeaf-1491-4a05-adb5-719ae2caaf13",
   "metadata": {},
   "outputs": [],
   "source": [
    "display(X_train.shape)\n",
    "display(X_test.shape)"
   ]
  },
  {
   "cell_type": "markdown",
   "id": "29ecab8e-136c-4c06-94fb-f4dfd846afcb",
   "metadata": {},
   "source": [
    "После разделения датафремы имеют следующий размер"
   ]
  },
  {
   "cell_type": "code",
   "execution_count": null,
   "id": "a035c522-4cf1-4068-b1f4-3ce74b5c03f2",
   "metadata": {},
   "outputs": [],
   "source": [
    "numeric_transformer = MinMaxScaler()\n",
    "categorical_transformer = OneHotEncoder(handle_unknown='ignore', drop='first')\n",
    "categorical_large_transformer = TargetEncoder()"
   ]
  },
  {
   "cell_type": "markdown",
   "id": "b804d4f5-56fb-4c8d-86be-c4412a8f4eb2",
   "metadata": {},
   "source": [
    "Для масштабирования числовых признаков использую MinMaxScaler, для кодирования категориальных - OneHotEncoder, для кодировки больших категориальных признаков (где много категорий) - "
   ]
  },
  {
   "cell_type": "code",
   "execution_count": null,
   "id": "31642398-8556-4ffe-9c7a-4c8cd88a3835",
   "metadata": {},
   "outputs": [],
   "source": [
    "preprocessor = ColumnTransformer(\n",
    "    transformers=[\n",
    "        ('num', numeric_transformer, numeric_features),\n",
    "        ('cat', categorical_transformer, categorical_features),\n",
    "        ('cat_large', categorical_large_transformer, categorical_features_large)\n",
    "    ]\n",
    ")"
   ]
  },
  {
   "cell_type": "markdown",
   "id": "173bf465-0f71-43f2-b744-8e10e043ebd2",
   "metadata": {},
   "source": [
    "**3. Построение и обучение моделей**"
   ]
  },
  {
   "cell_type": "code",
   "execution_count": null,
   "id": "d4a1a18a-0fbc-488a-90a2-227e3cb160e9",
   "metadata": {},
   "outputs": [],
   "source": [
    "def create_pipeline(model):\n",
    "    return Pipeline(steps=[\n",
    "        ('preprocessor', preprocessor),\n",
    "        ('regressor', model)\n",
    "    ])"
   ]
  },
  {
   "cell_type": "code",
   "execution_count": null,
   "id": "392a59df-521d-4f9e-a664-f6b8f0283b70",
   "metadata": {},
   "outputs": [],
   "source": [
    "def metrics_report(pipeline, X, y, cv):\n",
    "    y_pred = cross_val_predict(pipeline, X, y, cv=cv)\n",
    "    y_prob = cross_val_predict(pipeline, X, y, cv=cv, method='predict_proba')[:, 1]\n",
    "    \n",
    "    precision = precision_score(y, y_pred)\n",
    "    recall = recall_score(y, y_pred)\n",
    "    f1 = f1_score(y, y_pred)\n",
    "    accuracy = accuracy_score(y, y_pred)\n",
    "    roc_auc = roc_auc_score(y, y_prob)\n",
    "    \n",
    "    return precision, recall, f1, accuracy, roc_auc"
   ]
  },
  {
   "cell_type": "code",
   "execution_count": null,
   "id": "56bed580-1d4d-4f1d-9cb6-b348e0eed048",
   "metadata": {},
   "outputs": [],
   "source": [
    "def add_best_metrics_to_df(df, model_type, best_params, accuracy, precision, recall, f1, roc_auc):\n",
    "    new_row = pd.DataFrame([{\n",
    "        'BestModel': model_type,\n",
    "        'BestParameters': best_params,\n",
    "        'Accuracy': accuracy,\n",
    "        'Precision': precision,\n",
    "        'Recall': recall,\n",
    "        'F1': f1,\n",
    "        'ROC AUC': roc_auc\n",
    "    }])\n",
    "    \n",
    "    df = pd.concat([df, new_row], ignore_index=True)\n",
    "    return df"
   ]
  },
  {
   "cell_type": "code",
   "execution_count": null,
   "id": "9b0ca8b6-7d92-4288-8c6e-c9a24c133012",
   "metadata": {},
   "outputs": [],
   "source": [
    "def train_dummy_model(X_train, y_train, X_test, y_test):\n",
    "    model = DummyClassifier(strategy='most_frequent')\n",
    "\n",
    "    model.fit(X_train, y_train)\n",
    "    \n",
    "    y_pred = model.predict(X_test)\n",
    "    y_proba = model.predict_proba(X_test)[:, 1]\n",
    "    \n",
    "    accuracy = accuracy_score(y_test, y_pred)\n",
    "    precision = precision_score(y_test, y_pred, zero_division=0) \n",
    "    recall = recall_score(y_test, y_pred, zero_division=0)\n",
    "    f1 = f1_score(y_test, y_pred, zero_division=0)\n",
    "    roc_auc = roc_auc_score(y_test, y_proba)\n",
    "    \n",
    "    metrics = {\n",
    "        'BestModel': 'dummy_model',\n",
    "        'BestParameters': 'N/A',\n",
    "        'Accuracy': accuracy,\n",
    "        'Precision': precision,\n",
    "        'Recall': recall,\n",
    "        'F1': f1,\n",
    "        'ROC AUC': roc_auc\n",
    "    }\n",
    "    \n",
    "    return metrics"
   ]
  },
  {
   "cell_type": "code",
   "execution_count": null,
   "id": "229ecd6a-83a1-45b5-9dbd-69d4cd55ca51",
   "metadata": {},
   "outputs": [],
   "source": [
    "def objective_logistic_regression(trial):\n",
    "    C = trial.suggest_float('C', 1e-3, 1e3, log=True) \n",
    "    model = LogisticRegression(C=C, random_state=RANDOM_STATE, solver='liblinear')\n",
    "    pipeline = create_pipeline(model)\n",
    "    \n",
    "    cv = KFold(n_splits=5, shuffle=True, random_state=RANDOM_STATE)\n",
    "    precision, recall, f1, accuracy, roc_auc = metrics_report(pipeline, X_train, y_train, cv)\n",
    "    \n",
    "    trial.set_user_attr('model_type', 'logistic_regression')\n",
    "    trial.set_user_attr('precision', precision)\n",
    "    trial.set_user_attr('recall', recall)\n",
    "    trial.set_user_attr('f1', f1)\n",
    "    trial.set_user_attr('accuracy', accuracy)\n",
    "    trial.set_user_attr('roc_auc', roc_auc)\n",
    "    \n",
    "    return roc_auc "
   ]
  },
  {
   "cell_type": "code",
   "execution_count": null,
   "id": "abaf814a-5ea3-420e-9393-44dd818992a4",
   "metadata": {},
   "outputs": [],
   "source": [
    "def objective_catboost_classification(trial):\n",
    "    learning_rate = trial.suggest_float('learning_rate', 0.01, 0.3, log=True)\n",
    "    depth = trial.suggest_int('depth', 3, 10)\n",
    "    l2_leaf_reg = trial.suggest_float('l2_leaf_reg', 1, 10)\n",
    "    iterations = trial.suggest_int('iterations', 100, 1000)\n",
    "    \n",
    "    model = CatBoostClassifier(\n",
    "        learning_rate=learning_rate,\n",
    "        depth=depth,\n",
    "        l2_leaf_reg=l2_leaf_reg,\n",
    "        iterations=iterations,\n",
    "        task_type='CPU',\n",
    "        random_state=RANDOM_STATE,\n",
    "        verbose=0\n",
    "    )\n",
    "    \n",
    "    pipeline = create_pipeline(model)\n",
    "    \n",
    "    cv = KFold(n_splits=5, shuffle=True, random_state=RANDOM_STATE)\n",
    "    try:\n",
    "        precision, recall, f1, accuracy, roc_auc = metrics_report(pipeline, X_train, y_train, cv)\n",
    "        trial.set_user_attr('model_type', 'catboost')\n",
    "        trial.set_user_attr('precision', precision)\n",
    "        trial.set_user_attr('recall', recall)\n",
    "        trial.set_user_attr('f1', f1)\n",
    "        trial.set_user_attr('accuracy', accuracy)\n",
    "        trial.set_user_attr('roc_auc', roc_auc)\n",
    "        return roc_auc\n",
    "    except Exception as e:\n",
    "        print(f\"An error occurred: {e}\")\n",
    "        return float('inf')"
   ]
  },
  {
   "cell_type": "code",
   "execution_count": null,
   "id": "d5e7097c-c4fc-49a5-8d17-86a35256c6af",
   "metadata": {},
   "outputs": [],
   "source": [
    "columns = ['BestModel', 'BestParameters', 'Accuracy', 'Precision', 'Recall', 'F1', 'ROC-AUC']\n",
    "metrics_df = pd.DataFrame(columns=columns)"
   ]
  },
  {
   "cell_type": "code",
   "execution_count": null,
   "id": "705aa2e5-2c48-4ba0-844b-ed43a6b2d6c8",
   "metadata": {},
   "outputs": [],
   "source": [
    "dummy_metrics = train_dummy_model(X_train, y_train, X_test, y_test)\n",
    "\n",
    "dummy_metrics_df = pd.DataFrame([dummy_metrics])\n",
    "metrics_df = pd.concat([metrics_df, dummy_metrics_df], ignore_index=True)"
   ]
  },
  {
   "cell_type": "code",
   "execution_count": null,
   "id": "c417875f-2ca8-4f3f-a8de-ec3d81bba109",
   "metadata": {},
   "outputs": [],
   "source": [
    "# study_logistic = optuna.create_study(direction='maximize')\n",
    "\n",
    "# for _ in tqdm(range(N_TRIALS), desc=\"Оптимизация модели\"):\n",
    "#     study_logistic.optimize(objective_logistic_regression, n_trials=1)\n",
    "\n",
    "# best_logistic_trial = study_logistic.best_trial\n",
    "\n",
    "# metrics_df = add_best_metrics_to_df(\n",
    "#     metrics_df,\n",
    "#     best_logistic_trial.user_attrs['model_type'],\n",
    "#     best_logistic_trial.params,\n",
    "#     best_logistic_trial.user_attrs['precision'],\n",
    "#     best_logistic_trial.user_attrs['recall'],\n",
    "#     best_logistic_trial.user_attrs['f1'],\n",
    "#     best_logistic_trial.user_attrs['accuracy'],\n",
    "#     best_logistic_trial.user_attrs['roc_auc']\n",
    "# )"
   ]
  },
  {
   "cell_type": "markdown",
   "id": "d9b19ee4-6b1a-4aa5-976a-043fb1f2a58a",
   "metadata": {},
   "source": [
    "Лучшая модель показала метрику ROC AUC = 0.819"
   ]
  },
  {
   "cell_type": "code",
   "execution_count": null,
   "id": "bd22950e-51d3-4668-bdf3-b6e2d18eddbd",
   "metadata": {},
   "outputs": [],
   "source": [
    "study_catboost = optuna.create_study(direction='maximize')\n",
    "study_catboost.optimize(objective_catboost_classification, n_trials=N_TRIALS)\n",
    "\n",
    "best_catboost_trial = study_catboost.best_trial\n",
    "\n",
    "metrics_df = add_best_metrics_to_df(\n",
    "    metrics_df,\n",
    "    best_catboost_trial.user_attrs['model_type'],\n",
    "    best_catboost_trial.params,\n",
    "    best_catboost_trial.user_attrs['precision'],\n",
    "    best_catboost_trial.user_attrs['recall'],\n",
    "    best_catboost_trial.user_attrs['f1']\n",
    ")"
   ]
  },
  {
   "cell_type": "code",
   "execution_count": null,
   "id": "cfd3eda7-b85f-4220-b3e0-02b5e54fab36",
   "metadata": {},
   "outputs": [],
   "source": [
    "metrics_df"
   ]
  },
  {
   "cell_type": "code",
   "execution_count": null,
   "id": "8c42f8d4-b71e-4d03-8d22-1b9b15c8685c",
   "metadata": {},
   "outputs": [],
   "source": []
  },
  {
   "cell_type": "code",
   "execution_count": null,
   "id": "f11baeeb-6a4a-46f9-b05f-2a71b1a833eb",
   "metadata": {},
   "outputs": [],
   "source": []
  },
  {
   "cell_type": "code",
   "execution_count": null,
   "id": "f2ae1d62-a31a-435d-b7c5-126638dae6d5",
   "metadata": {},
   "outputs": [],
   "source": []
  },
  {
   "cell_type": "code",
   "execution_count": null,
   "id": "e538f678-f122-4982-8d4b-cbbfee0e63a5",
   "metadata": {},
   "outputs": [],
   "source": []
  },
  {
   "cell_type": "code",
   "execution_count": null,
   "id": "163d5b93-d82c-48e4-8fcd-f64d3b5f9382",
   "metadata": {},
   "outputs": [],
   "source": []
  },
  {
   "cell_type": "code",
   "execution_count": null,
   "id": "d23de08b-3b1b-4d26-8b4e-a432e082e32f",
   "metadata": {},
   "outputs": [],
   "source": []
  },
  {
   "cell_type": "code",
   "execution_count": null,
   "id": "6dc3e3ef-1e35-41f5-b212-ca550c8b695d",
   "metadata": {},
   "outputs": [],
   "source": []
  },
  {
   "cell_type": "code",
   "execution_count": null,
   "id": "6e603432-97b9-4dc4-bd4a-472977a58109",
   "metadata": {},
   "outputs": [],
   "source": []
  }
 ],
 "metadata": {
  "kernelspec": {
   "display_name": "Python 3 (ipykernel)",
   "language": "python",
   "name": "python3"
  },
  "language_info": {
   "codemirror_mode": {
    "name": "ipython",
    "version": 3
   },
   "file_extension": ".py",
   "mimetype": "text/x-python",
   "name": "python",
   "nbconvert_exporter": "python",
   "pygments_lexer": "ipython3",
   "version": "3.12.3"
  }
 },
 "nbformat": 4,
 "nbformat_minor": 5
}
